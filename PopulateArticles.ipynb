{
 "cells": [
  {
   "cell_type": "code",
   "execution_count": 1,
   "metadata": {},
   "outputs": [],
   "source": [
    "import pandas as pd  # Python data analysis library - for dataframe data structure\n",
    "import requests  # for http requests\n",
    "from bs4 import BeautifulSoup  # to work with web pages\n",
    "\n",
    "\n",
    "#load the json data\n",
    "storiesDf = pd.read_json(r'C:\\Users\\ewerfel\\Documents\\notebooks\\Domino\\Collabsphere\\stories.json')\n",
    "\n",
    "# limit dataframe to 25 rows for time\n",
    "storiesDf = storiesDf[:35]  "
   ]
  },
  {
   "cell_type": "code",
   "execution_count": 2,
   "metadata": {
    "scrolled": true
   },
   "outputs": [
    {
     "data": {
      "text/html": [
       "<div>\n",
       "<style scoped>\n",
       "    .dataframe tbody tr th:only-of-type {\n",
       "        vertical-align: middle;\n",
       "    }\n",
       "\n",
       "    .dataframe tbody tr th {\n",
       "        vertical-align: top;\n",
       "    }\n",
       "\n",
       "    .dataframe thead th {\n",
       "        text-align: right;\n",
       "    }\n",
       "</style>\n",
       "<table border=\"1\" class=\"dataframe\">\n",
       "  <thead>\n",
       "    <tr style=\"text-align: right;\">\n",
       "      <th></th>\n",
       "      <th>link</th>\n",
       "      <th>headline</th>\n",
       "      <th>category</th>\n",
       "      <th>short_description</th>\n",
       "      <th>authors</th>\n",
       "      <th>date</th>\n",
       "    </tr>\n",
       "  </thead>\n",
       "  <tbody>\n",
       "    <tr>\n",
       "      <th>0</th>\n",
       "      <td>https://www.huffpost.com/entry/covid-boosters-...</td>\n",
       "      <td>Over 4 Million Americans Roll Up Sleeves For O...</td>\n",
       "      <td>U.S. NEWS</td>\n",
       "      <td>Health experts said it is too early to predict...</td>\n",
       "      <td>Carla K. Johnson, AP</td>\n",
       "      <td>2022-09-23</td>\n",
       "    </tr>\n",
       "    <tr>\n",
       "      <th>1</th>\n",
       "      <td>https://www.huffpost.com/entry/american-airlin...</td>\n",
       "      <td>American Airlines Flyer Charged, Banned For Li...</td>\n",
       "      <td>U.S. NEWS</td>\n",
       "      <td>He was subdued by passengers and crew when he ...</td>\n",
       "      <td>Mary Papenfuss</td>\n",
       "      <td>2022-09-23</td>\n",
       "    </tr>\n",
       "    <tr>\n",
       "      <th>2</th>\n",
       "      <td>https://www.huffpost.com/entry/funniest-tweets...</td>\n",
       "      <td>23 Of The Funniest Tweets About Cats And Dogs ...</td>\n",
       "      <td>COMEDY</td>\n",
       "      <td>\"Until you have a dog you don't understand wha...</td>\n",
       "      <td>Elyse Wanshel</td>\n",
       "      <td>2022-09-23</td>\n",
       "    </tr>\n",
       "    <tr>\n",
       "      <th>3</th>\n",
       "      <td>https://www.huffpost.com/entry/funniest-parent...</td>\n",
       "      <td>The Funniest Tweets From Parents This Week (Se...</td>\n",
       "      <td>PARENTING</td>\n",
       "      <td>\"Accidentally put grown-up toothpaste on my to...</td>\n",
       "      <td>Caroline Bologna</td>\n",
       "      <td>2022-09-23</td>\n",
       "    </tr>\n",
       "    <tr>\n",
       "      <th>4</th>\n",
       "      <td>https://www.huffpost.com/entry/amy-cooper-lose...</td>\n",
       "      <td>Woman Who Called Cops On Black Bird-Watcher Lo...</td>\n",
       "      <td>U.S. NEWS</td>\n",
       "      <td>Amy Cooper accused investment firm Franklin Te...</td>\n",
       "      <td>Nina Golgowski</td>\n",
       "      <td>2022-09-22</td>\n",
       "    </tr>\n",
       "  </tbody>\n",
       "</table>\n",
       "</div>"
      ],
      "text/plain": [
       "                                                link  \\\n",
       "0  https://www.huffpost.com/entry/covid-boosters-...   \n",
       "1  https://www.huffpost.com/entry/american-airlin...   \n",
       "2  https://www.huffpost.com/entry/funniest-tweets...   \n",
       "3  https://www.huffpost.com/entry/funniest-parent...   \n",
       "4  https://www.huffpost.com/entry/amy-cooper-lose...   \n",
       "\n",
       "                                            headline   category  \\\n",
       "0  Over 4 Million Americans Roll Up Sleeves For O...  U.S. NEWS   \n",
       "1  American Airlines Flyer Charged, Banned For Li...  U.S. NEWS   \n",
       "2  23 Of The Funniest Tweets About Cats And Dogs ...     COMEDY   \n",
       "3  The Funniest Tweets From Parents This Week (Se...  PARENTING   \n",
       "4  Woman Who Called Cops On Black Bird-Watcher Lo...  U.S. NEWS   \n",
       "\n",
       "                                   short_description               authors  \\\n",
       "0  Health experts said it is too early to predict...  Carla K. Johnson, AP   \n",
       "1  He was subdued by passengers and crew when he ...        Mary Papenfuss   \n",
       "2  \"Until you have a dog you don't understand wha...         Elyse Wanshel   \n",
       "3  \"Accidentally put grown-up toothpaste on my to...      Caroline Bologna   \n",
       "4  Amy Cooper accused investment firm Franklin Te...        Nina Golgowski   \n",
       "\n",
       "        date  \n",
       "0 2022-09-23  \n",
       "1 2022-09-23  \n",
       "2 2022-09-23  \n",
       "3 2022-09-23  \n",
       "4 2022-09-22  "
      ]
     },
     "execution_count": 2,
     "metadata": {},
     "output_type": "execute_result"
    }
   ],
   "source": [
    "# take a look at the first few rows\n",
    "storiesDf.head()"
   ]
  },
  {
   "cell_type": "code",
   "execution_count": 3,
   "metadata": {},
   "outputs": [
    {
     "data": {
      "text/plain": [
       "Index(['link', 'headline', 'category', 'short_description', 'authors', 'date'], dtype='object')"
      ]
     },
     "execution_count": 3,
     "metadata": {},
     "output_type": "execute_result"
    }
   ],
   "source": [
    "#explore current columns \n",
    "\n",
    "storiesDf.columns"
   ]
  },
  {
   "cell_type": "code",
   "execution_count": 4,
   "metadata": {},
   "outputs": [
    {
     "data": {
      "text/plain": [
       "0     https://www.huffpost.com/entry/covid-boosters-...\n",
       "1     https://www.huffpost.com/entry/american-airlin...\n",
       "2     https://www.huffpost.com/entry/funniest-tweets...\n",
       "3     https://www.huffpost.com/entry/funniest-parent...\n",
       "4     https://www.huffpost.com/entry/amy-cooper-lose...\n",
       "5     https://www.huffpost.com/entry/belk-worker-fou...\n",
       "6     https://www.huffpost.com/entry/reporter-gets-a...\n",
       "7     https://www.huffpost.com/entry/puerto-rico-wat...\n",
       "8     https://www.huffpost.com/entry/mija-documentar...\n",
       "9     https://www.huffpost.com/entry/biden-un-russia...\n",
       "10    https://www.huffpost.com/entry/bc-soc-wcup-cap...\n",
       "11    https://www.huffpost.com/entry/man-sets-fire-p...\n",
       "12    https://www.huffpost.com/entry/fiona-threatens...\n",
       "13    https://www.huffpost.com/entry/twitch-streamer...\n",
       "14    https://www.huffpost.com/entry/virginia-thomas...\n",
       "15    https://www.huffpost.com/entry/valery-polyakov...\n",
       "16    https://www.huffpost.com/entry/hulu-reboot-sho...\n",
       "17    https://www.huffpost.com/entry/dodgers-basebal...\n",
       "18    https://www.huffpost.com/entry/russian-control...\n",
       "19    https://www.huffpost.com/entry/hurricane-fiona...\n",
       "20    https://www.huffpost.com/entry/golden-globes-r...\n",
       "21    https://www.huffpost.com/entry/biden-us-forces...\n",
       "22    https://www.huffpost.com/entry/hurricane-fiona...\n",
       "23    https://www.huffpost.com/entry/national-champi...\n",
       "24    https://www.huffpost.com/entry/ukraine-festiva...\n",
       "25    https://www.huffpost.com/entry/mark-frerichs-r...\n",
       "26    https://www.huffpost.com/entry/2022-wnba-final...\n",
       "27    https://www.huffpost.com/entry/queen-elizabeth...\n",
       "28    https://www.huffpost.com/entry/james-cameron-f...\n",
       "29    https://www.huffpost.com/entry/french-spiderma...\n",
       "30    https://www.huffpost.com/entry/europe-britain-...\n",
       "31    https://www.huffpost.com/entry/2020-census-fal...\n",
       "32    https://www.huffpost.com/entry/oil-gas-coal-re...\n",
       "33    https://www.huffpost.com/entry/man-arrested-ex...\n",
       "34    https://www.huffpost.com/entry/bc-us-alaska-co...\n",
       "Name: link, dtype: object"
      ]
     },
     "execution_count": 4,
     "metadata": {},
     "output_type": "execute_result"
    }
   ],
   "source": [
    "# show links to full articles\n",
    "storiesDf['link']"
   ]
  },
  {
   "cell_type": "code",
   "execution_count": 5,
   "metadata": {},
   "outputs": [],
   "source": [
    "# function to retrieve article body from page at article URL\n",
    "\n",
    "def retrieveArticle(articleURL):\n",
    "    # URL of the web page you want to scrape\n",
    "\n",
    "# Send a request to fetch the web page content\n",
    "    response = requests.get(articleURL)\n",
    "\n",
    "# Parse the HTML content using BeautifulSoup\n",
    "    soup = BeautifulSoup(response.content, 'html.parser')\n",
    "\n",
    "# Find the <article> tag and extract its contents\n",
    "    article_tag = soup.find('article')\n",
    "    if article_tag:\n",
    "        article_content = article_tag.get_text()\n",
    "    else:\n",
    "        article_content = 'No article tag found on the page.'\n",
    "    return article_content"
   ]
  },
  {
   "cell_type": "code",
   "execution_count": 7,
   "metadata": {},
   "outputs": [],
   "source": [
    "#apply function to all rows in dataframe, and save body of article in new column\n",
    "storiesDf['articleBody'] = storiesDf['link'].apply(retrieveArticle)"
   ]
  },
  {
   "cell_type": "code",
   "execution_count": 8,
   "metadata": {},
   "outputs": [
    {
     "data": {
      "text/plain": [
       "Index(['link', 'headline', 'category', 'short_description', 'authors', 'date',\n",
       "       'articleBody'],\n",
       "      dtype='object')"
      ]
     },
     "execution_count": 8,
     "metadata": {},
     "output_type": "execute_result"
    }
   ],
   "source": [
    "#make sure the column was added\n",
    "storiesDf.columns"
   ]
  },
  {
   "cell_type": "code",
   "execution_count": 9,
   "metadata": {},
   "outputs": [
    {
     "data": {
      "text/plain": [
       "0     LOADINGERROR LOADINGU.S. health officials say ...\n",
       "1     A volatile passenger has been charged with a f...\n",
       "2     LOADINGERROR LOADINGWoof — it’s been a long, l...\n",
       "3     LOADINGERROR LOADINGKids may say the darndest ...\n",
       "4     LOADINGERROR LOADINGA white woman who said tha...\n",
       "5     A woman hired to clean the public bathroom of ...\n",
       "6     Robert Tilearcio Jr.'s surprise TV proposal to...\n",
       "7     LOADINGERROR LOADINGCAGUAS, Puerto Rico (AP) —...\n",
       "8     Musician and music manager Doris Muñoz dances ...\n",
       "9     LOADINGERROR LOADINGNEW YORK (AP) — President ...\n",
       "10    FRANKFURT AM MAIN, GERMANY - SEPTEMBER 21: Thi...\n",
       "11    LOADINGERROR LOADINGTOKYO (AP) — A man set him...\n",
       "12    LOADINGERROR LOADINGSAN JUAN, Puerto Rico (AP)...\n",
       "13    LOADINGERROR LOADINGA Twitch streamer’s claim ...\n",
       "14    LOADINGERROR LOADINGVirginia “Ginni” Thomas, t...\n",
       "15    Polyakov being assisted mere moments before li...\n",
       "16    A still from Hulu's \"RebootILLUSTRATION: JIANA...\n",
       "17    19 April 2015: Former Los Angeles Dodgers grea...\n",
       "18    LOADINGERROR LOADINGKYIV, Ukraine (AP) — Russi...\n",
       "19    LOADINGERROR LOADINGSAN JUAN, Puerto Rico (AP)...\n",
       "20    After a year spent off air, the Golden Globe A...\n",
       "21    LOADINGERROR LOADINGBEIJING (AP) — President J...\n",
       "22    LOADINGERROR LOADINGHAVANA (AP) — Hurricane Fi...\n",
       "23    Pilots line up for the start of the Heat race ...\n",
       "24    LOADINGERROR LOADINGSILVER SPRING, Md. — For s...\n",
       "25    Bashir Noorzai, center, a senior Taliban detai...\n",
       "26    Las Vegas Aces' A'ja Wilson holds up the champ...\n",
       "27    LOADINGERROR LOADINGLONDON (AP) — U.S. Preside...\n",
       "28    LOADINGERROR LOADINGDirector James Cameron rev...\n",
       "29    LOADINGERROR LOADINGAlain Robert, a free solo ...\n",
       "30    LOADINGERROR LOADINGLONDON (AP) — U.S. Preside...\n",
       "31    A photo of the information table for the 2020 ...\n",
       "32    LOADINGERROR LOADINGA first-of-its-kind databa...\n",
       "33    LOADINGERROR LOADINGA 19-year-old man was char...\n",
       "34    LOADINGERROR LOADINGJUNEAU, Alaska (AP) — Resi...\n",
       "Name: articleBody, dtype: object"
      ]
     },
     "execution_count": 9,
     "metadata": {},
     "output_type": "execute_result"
    }
   ],
   "source": [
    "#examine body of stories: \n",
    "storiesDf['articleBody'].str[0:200]"
   ]
  },
  {
   "cell_type": "code",
   "execution_count": 10,
   "metadata": {},
   "outputs": [
    {
     "data": {
      "text/html": [
       "<div>\n",
       "<style scoped>\n",
       "    .dataframe tbody tr th:only-of-type {\n",
       "        vertical-align: middle;\n",
       "    }\n",
       "\n",
       "    .dataframe tbody tr th {\n",
       "        vertical-align: top;\n",
       "    }\n",
       "\n",
       "    .dataframe thead th {\n",
       "        text-align: right;\n",
       "    }\n",
       "</style>\n",
       "<table border=\"1\" class=\"dataframe\">\n",
       "  <thead>\n",
       "    <tr style=\"text-align: right;\">\n",
       "      <th></th>\n",
       "      <th>link</th>\n",
       "      <th>headline</th>\n",
       "      <th>category</th>\n",
       "      <th>short_description</th>\n",
       "      <th>authors</th>\n",
       "      <th>date</th>\n",
       "      <th>articleBody</th>\n",
       "    </tr>\n",
       "  </thead>\n",
       "  <tbody>\n",
       "    <tr>\n",
       "      <th>count</th>\n",
       "      <td>35</td>\n",
       "      <td>35</td>\n",
       "      <td>35</td>\n",
       "      <td>35</td>\n",
       "      <td>35</td>\n",
       "      <td>35</td>\n",
       "      <td>35</td>\n",
       "    </tr>\n",
       "    <tr>\n",
       "      <th>unique</th>\n",
       "      <td>35</td>\n",
       "      <td>35</td>\n",
       "      <td>11</td>\n",
       "      <td>35</td>\n",
       "      <td>26</td>\n",
       "      <td>7</td>\n",
       "      <td>35</td>\n",
       "    </tr>\n",
       "    <tr>\n",
       "      <th>top</th>\n",
       "      <td>https://www.huffpost.com/entry/virginia-thomas...</td>\n",
       "      <td>The Funniest Tweets From Parents This Week (Se...</td>\n",
       "      <td>WORLD NEWS</td>\n",
       "      <td>An annual celebration took on a different feel...</td>\n",
       "      <td></td>\n",
       "      <td>2022-09-20 00:00:00</td>\n",
       "      <td>LOADINGERROR LOADINGKYIV, Ukraine (AP) — Russi...</td>\n",
       "    </tr>\n",
       "    <tr>\n",
       "      <th>freq</th>\n",
       "      <td>1</td>\n",
       "      <td>1</td>\n",
       "      <td>11</td>\n",
       "      <td>1</td>\n",
       "      <td>4</td>\n",
       "      <td>6</td>\n",
       "      <td>1</td>\n",
       "    </tr>\n",
       "    <tr>\n",
       "      <th>first</th>\n",
       "      <td>NaN</td>\n",
       "      <td>NaN</td>\n",
       "      <td>NaN</td>\n",
       "      <td>NaN</td>\n",
       "      <td>NaN</td>\n",
       "      <td>2022-09-17 00:00:00</td>\n",
       "      <td>NaN</td>\n",
       "    </tr>\n",
       "    <tr>\n",
       "      <th>last</th>\n",
       "      <td>NaN</td>\n",
       "      <td>NaN</td>\n",
       "      <td>NaN</td>\n",
       "      <td>NaN</td>\n",
       "      <td>NaN</td>\n",
       "      <td>2022-09-23 00:00:00</td>\n",
       "      <td>NaN</td>\n",
       "    </tr>\n",
       "  </tbody>\n",
       "</table>\n",
       "</div>"
      ],
      "text/plain": [
       "                                                     link  \\\n",
       "count                                                  35   \n",
       "unique                                                 35   \n",
       "top     https://www.huffpost.com/entry/virginia-thomas...   \n",
       "freq                                                    1   \n",
       "first                                                 NaN   \n",
       "last                                                  NaN   \n",
       "\n",
       "                                                 headline    category  \\\n",
       "count                                                  35          35   \n",
       "unique                                                 35          11   \n",
       "top     The Funniest Tweets From Parents This Week (Se...  WORLD NEWS   \n",
       "freq                                                    1          11   \n",
       "first                                                 NaN         NaN   \n",
       "last                                                  NaN         NaN   \n",
       "\n",
       "                                        short_description authors  \\\n",
       "count                                                  35      35   \n",
       "unique                                                 35      26   \n",
       "top     An annual celebration took on a different feel...           \n",
       "freq                                                    1       4   \n",
       "first                                                 NaN     NaN   \n",
       "last                                                  NaN     NaN   \n",
       "\n",
       "                       date                                        articleBody  \n",
       "count                    35                                                 35  \n",
       "unique                    7                                                 35  \n",
       "top     2022-09-20 00:00:00  LOADINGERROR LOADINGKYIV, Ukraine (AP) — Russi...  \n",
       "freq                      6                                                  1  \n",
       "first   2022-09-17 00:00:00                                                NaN  \n",
       "last    2022-09-23 00:00:00                                                NaN  "
      ]
     },
     "execution_count": 10,
     "metadata": {},
     "output_type": "execute_result"
    }
   ],
   "source": [
    "storiesDf.describe()"
   ]
  },
  {
   "cell_type": "code",
   "execution_count": 11,
   "metadata": {},
   "outputs": [],
   "source": [
    "import win32com.client   # For COM objects\n",
    "\n",
    "# get NotesSession through COM\n",
    "notesSession = win32com.client.Dispatch(r'Notes.NOTESSESSION')\n"
   ]
  },
  {
   "cell_type": "code",
   "execution_count": 12,
   "metadata": {},
   "outputs": [
    {
     "data": {
      "text/plain": [
       "'Articles Empty'"
      ]
     },
     "execution_count": 12,
     "metadata": {},
     "output_type": "execute_result"
    }
   ],
   "source": [
    "# Get a handle to the database\n",
    "articlesDb = notesSession.GetDatabase(\"\", r\"collabsphere\\articlesempty.nsf\")\n",
    "\n",
    "# Show title to verify we have a database object\n",
    "articlesDb.Title\n"
   ]
  },
  {
   "cell_type": "code",
   "execution_count": 13,
   "metadata": {
    "scrolled": true
   },
   "outputs": [],
   "source": [
    "# This code creates a document in the articlesDb database for each row in the storiesDf DataFrame.\n",
    "\n",
    "formName = \"Article\"  # The name of the form used for the documents.\n",
    "\n",
    "for index, row in storiesDf.T.items():  # Iterate over the rows of the DataFrame.\n",
    "    doc = articlesDb.CreateDocument  # Create a new document in the database.\n",
    "    doc.ReplaceItemValue(\"Form\", formName)  # Set the form name for the document.\n",
    "\n",
    "    for i in range(len(row)):  # Iterate over the columns of the row.\n",
    "        if isinstance(row[i], pd.Timestamp):  # Check if the column is a timestamp.\n",
    "            row[i] = row[i].isoformat()[:10]  # Convert the timestamp to a 10-character string.\n",
    "        doc.ReplaceItemValue(row.index[i], row[i])  # Set the value of the column in the document.\n",
    "\n",
    "    doc.Save(1, 1)  # Save the document."
   ]
  },
  {
   "cell_type": "code",
   "execution_count": null,
   "metadata": {},
   "outputs": [],
   "source": []
  }
 ],
 "metadata": {
  "kernelspec": {
   "display_name": "Python 3",
   "language": "python",
   "name": "python3"
  },
  "language_info": {
   "codemirror_mode": {
    "name": "ipython",
    "version": 3
   },
   "file_extension": ".py",
   "mimetype": "text/x-python",
   "name": "python",
   "nbconvert_exporter": "python",
   "pygments_lexer": "ipython3",
   "version": "3.7.2"
  }
 },
 "nbformat": 4,
 "nbformat_minor": 4
}
